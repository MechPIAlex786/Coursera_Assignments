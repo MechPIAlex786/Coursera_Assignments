{
 "cells": [
  {
   "cell_type": "markdown",
   "id": "6ffb1156",
   "metadata": {},
   "source": [
    "**Exercise 2: Create markdown cell with title of the notebook**"
   ]
  },
  {
   "cell_type": "markdown",
   "id": "72b2f529",
   "metadata": {},
   "source": [
    "# Title : Data Science Tools and Ecosystem"
   ]
  },
  {
   "cell_type": "markdown",
   "id": "10913002",
   "metadata": {},
   "source": [
    "<hr style='border: 0.5px solid gray'>"
   ]
  },
  {
   "cell_type": "markdown",
   "id": "417650a6",
   "metadata": {},
   "source": [
    "**Exercise 3 - Create a markdown cell for an introduction**"
   ]
  },
  {
   "cell_type": "markdown",
   "id": "892a4149",
   "metadata": {},
   "source": [
    "## Introduction: \n",
    "**This is a jupyter notebook created using Anaconda Software Distribution. In this notebook Data Science tools and Data ecosystem is summarized.**"
   ]
  },
  {
   "cell_type": "markdown",
   "id": "21cd31d8",
   "metadata": {},
   "source": [
    "### Objectives:\n",
    "* List popular languages for Data Science\n",
    "* Most commanly used data science tools\n",
    "* Arithmatic exprssion in Python\n",
    "* Comment and Markdown in jupython notebook"
   ]
  },
  {
   "cell_type": "markdown",
   "id": "18ddd6aa",
   "metadata": {},
   "source": [
    "<hr style='border: 0.5px solid gray'>"
   ]
  },
  {
   "cell_type": "markdown",
   "id": "9d917a26",
   "metadata": {},
   "source": [
    "**Exercise 4 - Create a markdown cell to list data science languages**"
   ]
  },
  {
   "cell_type": "markdown",
   "id": "65183671",
   "metadata": {},
   "source": [
    "Some of the popular languages that Data Scientists use are:\n",
    "1. Python\n",
    "2. R\n",
    "3. SQL\n",
    "4. Java\n",
    "5. Scala\n",
    "6. and C++, JavaScript etc."
   ]
  },
  {
   "cell_type": "markdown",
   "id": "5599ba8f",
   "metadata": {},
   "source": [
    "<hr style='border: 0.5px solid gray'>"
   ]
  },
  {
   "cell_type": "markdown",
   "id": "bf14064b",
   "metadata": {},
   "source": [
    "**Exercise 5 - Create a markdown cell to list data science libraries**"
   ]
  },
  {
   "cell_type": "markdown",
   "id": "afa4fb38",
   "metadata": {},
   "source": [
    "Some of the commonly used libraries used by Data Scientists include:\n",
    "1. Pandas\n",
    "2. Numpy\n",
    "3. Matplotlib\n",
    "4. TensorFlow\n",
    "5. Seaborn\n",
    "6. Scipy\n",
    "7. Scikit-learn\n",
    "8. Keras\n",
    "9. PyTorch and many more."
   ]
  },
  {
   "cell_type": "markdown",
   "id": "01bbd4a4",
   "metadata": {},
   "source": [
    "<hr style='border: 0.5px solid gray'>"
   ]
  },
  {
   "cell_type": "markdown",
   "id": "a723b757",
   "metadata": {},
   "source": [
    "**Exercise 6 - Create a markdown cell with a table of Data Science tools.**"
   ]
  },
  {
   "cell_type": "markdown",
   "id": "781c327e",
   "metadata": {},
   "source": [
    "| Data Science Tools|\n",
    "|---------|\n",
    "|RStudio|\n",
    "|Apache Spark|\n",
    "|Apache Hadoop|\n",
    "|Watson Studio|\n",
    "|Watson Open Scale|\n",
    "|IBM AI Fairness 360|\n",
    "|Spyder|\n",
    "|git, Github|\n",
    "|Apache Atlas|\n",
    "|ODPi Egeria|\n",
    "|Kylo|"
   ]
  },
  {
   "cell_type": "markdown",
   "id": "7fae94e6",
   "metadata": {},
   "source": [
    "<hr style='border: 0.5px solid gray'>"
   ]
  },
  {
   "cell_type": "markdown",
   "id": "18d03db7",
   "metadata": {},
   "source": [
    "**Exercise 7 - Create a markdown cell introducing arithmetic expression examples.**"
   ]
  },
  {
   "cell_type": "markdown",
   "id": "f67829b4",
   "metadata": {},
   "source": [
    "### Below are a few examples of evaluating arithmetic expressions in Python"
   ]
  },
  {
   "cell_type": "code",
   "execution_count": 17,
   "id": "16906550",
   "metadata": {},
   "outputs": [
    {
     "name": "stdout",
     "output_type": "stream",
     "text": [
      "add: 21, subtract= 15, product=54, division = 6.0, reaminder= 0\n"
     ]
    }
   ],
   "source": [
    "first_num = 18\n",
    "second_num = 3\n",
    "add = first_num + second_num\n",
    "subtract = first_num-second_num\n",
    "product = first_num*second_num\n",
    "division = first_num/second_num\n",
    "remainder = first_num%second_num\n",
    "print(\"add: {}, subtract= {}, product={}, division = {}, reaminder= {}\".format(add,subtract,product,division,remainder))"
   ]
  },
  {
   "cell_type": "markdown",
   "id": "77066d9b",
   "metadata": {},
   "source": [
    "<hr style='border: 0.5px solid gray'>"
   ]
  },
  {
   "cell_type": "markdown",
   "id": "e5a49ee1",
   "metadata": {},
   "source": [
    "**Exercise 8 - Create a code cell to multiply and add numbers**"
   ]
  },
  {
   "cell_type": "code",
   "execution_count": 18,
   "id": "dd3da3ac",
   "metadata": {},
   "outputs": [
    {
     "data": {
      "text/plain": [
       "17"
      ]
     },
     "execution_count": 18,
     "metadata": {},
     "output_type": "execute_result"
    }
   ],
   "source": [
    "# This a simple arithmetic expression to mutiply then add integers\n",
    "(3*4)+5"
   ]
  },
  {
   "cell_type": "markdown",
   "id": "bc846821",
   "metadata": {},
   "source": [
    "<hr style='border: 0.5px solid gray'>"
   ]
  },
  {
   "cell_type": "markdown",
   "id": "96e934f4",
   "metadata": {},
   "source": [
    "**Exercise 9 - Create a code cell to convert minutes to hours.**"
   ]
  },
  {
   "cell_type": "code",
   "execution_count": 19,
   "id": "575cba7b",
   "metadata": {},
   "outputs": [
    {
     "name": "stdout",
     "output_type": "stream",
     "text": [
      "3.33 hrs\n"
     ]
    }
   ],
   "source": [
    "minutes = 200\n",
    "#  This will convert 200 minutes to hours by diving by 60\n",
    "hours = minutes/60\n",
    "print(round(hours,2), \"hrs\")"
   ]
  },
  {
   "cell_type": "markdown",
   "id": "dd8777e6",
   "metadata": {},
   "source": [
    "<hr style='border: 0.5px solid gray'>"
   ]
  },
  {
   "cell_type": "markdown",
   "id": "b0002469",
   "metadata": {},
   "source": [
    "**Exercise 10 -Insert a markdown cell to list Objectives.**"
   ]
  },
  {
   "cell_type": "markdown",
   "id": "0d69d46c",
   "metadata": {},
   "source": [
    "Inserted markdown cell with list Objectibe under exercise 3 "
   ]
  },
  {
   "cell_type": "markdown",
   "id": "778a5ea9",
   "metadata": {},
   "source": [
    "<hr style='border: 0.5px solid gray'>"
   ]
  },
  {
   "cell_type": "markdown",
   "id": "e965c12c",
   "metadata": {},
   "source": [
    "**Exercise 11 - Create a markdown cell to indicate the Author’s name.**"
   ]
  },
  {
   "cell_type": "markdown",
   "id": "282c1f1c",
   "metadata": {},
   "source": [
    "## Author \n",
    "Sikandar"
   ]
  },
  {
   "cell_type": "markdown",
   "id": "0ca8d377",
   "metadata": {},
   "source": [
    "<hr style='border: 0.5px solid gray'>"
   ]
  }
 ],
 "metadata": {
  "kernelspec": {
   "display_name": "Python 3 (ipykernel)",
   "language": "python",
   "name": "python3"
  },
  "language_info": {
   "codemirror_mode": {
    "name": "ipython",
    "version": 3
   },
   "file_extension": ".py",
   "mimetype": "text/x-python",
   "name": "python",
   "nbconvert_exporter": "python",
   "pygments_lexer": "ipython3",
   "version": "3.9.12"
  }
 },
 "nbformat": 4,
 "nbformat_minor": 5
}
